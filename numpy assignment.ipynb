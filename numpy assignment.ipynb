{
 "cells": [
  {
   "cell_type": "markdown",
   "metadata": {},
   "source": [
    "Write a function so that the columns of the output matrix are powers of the input\n",
    "vector.\n",
    "The order of the powers is determined by the increasing boolean argument. Specifically, when\n",
    "increasing is False, the i-th output column is the input vector raised element-wise to the power\n",
    "of N - i - 1.\n",
    "...............................................................................HINT: Such a matrix with a geometric progression in each row is named for AlexandreTheophile Vandermonde."
   ]
  },
  {
   "cell_type": "code",
   "execution_count": 31,
   "metadata": {},
   "outputs": [],
   "source": [
    "#here we are considering increasing is flase\n",
    "import numpy as np\n",
    "# import numpy which will be used further "
   ]
  },
  {
   "cell_type": "code",
   "execution_count": 32,
   "metadata": {},
   "outputs": [],
   "source": [
    "#x=np.array([1,2,3,4])\n",
    "#vector"
   ]
  },
  {
   "cell_type": "code",
   "execution_count": 33,
   "metadata": {},
   "outputs": [
    {
     "name": "stdout",
     "output_type": "stream",
     "text": [
      "you want square matrix or not y/n: y\n",
      "enter number of columns7\n"
     ]
    },
    {
     "data": {
      "text/plain": [
       "7"
      ]
     },
     "execution_count": 33,
     "metadata": {},
     "output_type": "execute_result"
    }
   ],
   "source": [
    "#a=input(\"you want square matrix or not y/n: \")\n",
    "#if a=='y' or a== 'Y':\n",
    " #   N=int(input(\"enter number of columns\"))\n",
    "#else:\n",
    " #   N=len(x)\n",
    "#N\n",
    "#here want to take value of number of columns"
   ]
  },
  {
   "cell_type": "code",
   "execution_count": 34,
   "metadata": {},
   "outputs": [
    {
     "data": {
      "text/plain": [
       "matrix([[   1,    1,    1,    1,    1,    1,    1],\n",
       "        [  64,   32,   16,    8,    4,    2,    1],\n",
       "        [ 729,  243,   81,   27,    9,    3,    1],\n",
       "        [4096, 1024,  256,   64,   16,    4,    1]])"
      ]
     },
     "execution_count": 34,
     "metadata": {},
     "output_type": "execute_result"
    }
   ],
   "source": [
    "#a=[x**(N-i-1) for i in range(N)]\n",
    "#a=np.mat(a).T\n",
    "#s=np.zeros((len(x),N))\n",
    "#s.astype(int)+a\n",
    "#finally implementing and putting in logic"
   ]
  },
  {
   "cell_type": "code",
   "execution_count": 45,
   "metadata": {},
   "outputs": [],
   "source": [
    "def vender(x,n):\n",
    "    a=[x**(N-i-1) for i in range(N)]\n",
    "    a=np.mat(a).T\n",
    "    s=np.zeros((len(x),N))\n",
    "    return s.astype(int)+a"
   ]
  },
  {
   "cell_type": "code",
   "execution_count": 46,
   "metadata": {},
   "outputs": [
    {
     "name": "stdout",
     "output_type": "stream",
     "text": [
      "you want square matrix or not y/n: y\n",
      "enter number of columns7\n"
     ]
    },
    {
     "data": {
      "text/plain": [
       "matrix([[   1,    1,    1,    1,    1,    1,    1],\n",
       "        [  64,   32,   16,    8,    4,    2,    1],\n",
       "        [ 729,  243,   81,   27,    9,    3,    1],\n",
       "        [4096, 1024,  256,   64,   16,    4,    1]])"
      ]
     },
     "execution_count": 46,
     "metadata": {},
     "output_type": "execute_result"
    }
   ],
   "source": [
    "x=np.array([1,2,3,4])\n",
    "a=input(\"you want square matrix or not y/n: \")\n",
    "if a=='y' or a== 'Y':\n",
    "    N=int(input(\"enter number of columns\"))\n",
    "else:\n",
    "    N=len(x)\n",
    "vender(x,N)"
   ]
  },
  {
   "cell_type": "code",
   "execution_count": null,
   "metadata": {},
   "outputs": [],
   "source": []
  },
  {
   "cell_type": "markdown",
   "metadata": {},
   "source": [
    "Write a function to find moving average in an array over a window:\n",
    " Test it over [3, 5, 7, 2, 8, 10, 11, 65, 72, 81, 99, 100, 150] and window of 3"
   ]
  },
  {
   "cell_type": "code",
   "execution_count": 64,
   "metadata": {},
   "outputs": [],
   "source": [
    "def mov_avg(x,k):\n",
    "    N=len(x)\n",
    "    avg_list=[]\n",
    "    for i in range(N-k+1):\n",
    "        avg_list.append(sum(x[i:i+k])/k)\n",
    "    print (\"Length of list of moving average: \",len(avg_list))\n",
    "    return avg_list"
   ]
  },
  {
   "cell_type": "code",
   "execution_count": 68,
   "metadata": {},
   "outputs": [
    {
     "name": "stdout",
     "output_type": "stream",
     "text": [
      "Length of list of moving average:  11\n"
     ]
    },
    {
     "data": {
      "text/plain": [
       "[5.0,\n",
       " 4.666666666666667,\n",
       " 5.666666666666667,\n",
       " 6.666666666666667,\n",
       " 9.666666666666666,\n",
       " 28.666666666666668,\n",
       " 49.333333333333336,\n",
       " 72.66666666666667,\n",
       " 84.0,\n",
       " 93.33333333333333,\n",
       " 116.33333333333333]"
      ]
     },
     "execution_count": 68,
     "metadata": {},
     "output_type": "execute_result"
    }
   ],
   "source": [
    "a=np.array([3, 5, 7, 2, 8, 10, 11, 65, 72, 81, 99, 100, 150])\n",
    "k=3\n",
    "mov_avg(a,k)"
   ]
  },
  {
   "cell_type": "code",
   "execution_count": null,
   "metadata": {},
   "outputs": [],
   "source": []
  }
 ],
 "metadata": {
  "kernelspec": {
   "display_name": "Python 3",
   "language": "python",
   "name": "python3"
  },
  "language_info": {
   "codemirror_mode": {
    "name": "ipython",
    "version": 3
   },
   "file_extension": ".py",
   "mimetype": "text/x-python",
   "name": "python",
   "nbconvert_exporter": "python",
   "pygments_lexer": "ipython3",
   "version": "3.7.3"
  }
 },
 "nbformat": 4,
 "nbformat_minor": 2
}
